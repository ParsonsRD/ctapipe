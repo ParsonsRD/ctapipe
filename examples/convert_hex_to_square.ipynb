{
 "cells": [
  {
   "cell_type": "markdown",
   "metadata": {},
   "source": [
    "# Convert hexagonal cameras into square grid and back"
   ]
  },
  {
   "cell_type": "code",
   "execution_count": 1,
   "metadata": {
    "execution": {
     "iopub.execute_input": "2021-02-09T13:50:46.117407Z",
     "iopub.status.busy": "2021-02-09T13:50:46.116357Z",
     "iopub.status.idle": "2021-02-09T13:50:48.004464Z",
     "shell.execute_reply": "2021-02-09T13:50:48.003783Z"
    }
   },
   "outputs": [
    {
     "name": "stderr",
     "output_type": "stream",
     "text": [
      "/usr/local/lib/python3.8/site-packages/setuptools_scm/git.py:68: UserWarning: \"/github/workspace\" is shallow and may cause errors\n",
      "  warnings.warn('\"{}\" is shallow and may cause errors'.format(wd.path))\n"
     ]
    }
   ],
   "source": [
    "from ctapipe.utils import get_dataset_path\n",
    "from ctapipe.image.geometry_converter import convert_geometry_hex1d_to_rect2d, convert_geometry_rect2d_back_to_hexe1d\n",
    "from ctapipe.visualization import CameraDisplay\n",
    "from ctapipe.io import EventSource\n",
    "import copy\n",
    "import matplotlib.pyplot as plt"
   ]
  },
  {
   "cell_type": "markdown",
   "metadata": {},
   "source": [
    "## Setup"
   ]
  },
  {
   "cell_type": "code",
   "execution_count": 2,
   "metadata": {
    "execution": {
     "iopub.execute_input": "2021-02-09T13:50:48.009119Z",
     "iopub.status.busy": "2021-02-09T13:50:48.008583Z",
     "iopub.status.idle": "2021-02-09T13:50:48.012192Z",
     "shell.execute_reply": "2021-02-09T13:50:48.011660Z"
    }
   },
   "outputs": [],
   "source": [
    "filename = get_dataset_path('gamma_test_large.simtel.gz')"
   ]
  },
  {
   "cell_type": "code",
   "execution_count": 3,
   "metadata": {
    "execution": {
     "iopub.execute_input": "2021-02-09T13:50:48.017629Z",
     "iopub.status.busy": "2021-02-09T13:50:48.015877Z",
     "iopub.status.idle": "2021-02-09T13:50:50.196015Z",
     "shell.execute_reply": "2021-02-09T13:50:50.196645Z"
    }
   },
   "outputs": [],
   "source": [
    "source = EventSource(filename, max_events=10, allowed_tels={1})"
   ]
  },
  {
   "cell_type": "code",
   "execution_count": 4,
   "metadata": {
    "execution": {
     "iopub.execute_input": "2021-02-09T13:50:50.221744Z",
     "iopub.status.busy": "2021-02-09T13:50:50.220817Z",
     "iopub.status.idle": "2021-02-09T13:50:52.820412Z",
     "shell.execute_reply": "2021-02-09T13:50:52.820867Z"
    }
   },
   "outputs": [],
   "source": [
    "events = [copy.deepcopy(event) for event in source]"
   ]
  },
  {
   "cell_type": "code",
   "execution_count": 5,
   "metadata": {
    "execution": {
     "iopub.execute_input": "2021-02-09T13:50:52.825029Z",
     "iopub.status.busy": "2021-02-09T13:50:52.824479Z",
     "iopub.status.idle": "2021-02-09T13:50:52.827875Z",
     "shell.execute_reply": "2021-02-09T13:50:52.828339Z"
    }
   },
   "outputs": [],
   "source": [
    "event = events[0]"
   ]
  },
  {
   "cell_type": "code",
   "execution_count": 6,
   "metadata": {
    "execution": {
     "iopub.execute_input": "2021-02-09T13:50:52.880828Z",
     "iopub.status.busy": "2021-02-09T13:50:52.852148Z",
     "iopub.status.idle": "2021-02-09T13:50:53.444746Z",
     "shell.execute_reply": "2021-02-09T13:50:53.444190Z"
    }
   },
   "outputs": [
    {
     "data": {
      "text/plain": [
       "<ctapipe.visualization.mpl_camera.CameraDisplay at 0x7f01438c6130>"
      ]
     },
     "execution_count": 1,
     "metadata": {},
     "output_type": "execute_result"
    }
   ],
   "source": [
    "geometry = source.subarray.tel[1].camera.geometry\n",
    "image = event.r0.tel[1].waveform[0].sum(axis=1)\n",
    "CameraDisplay(geometry, image)"
   ]
  },
  {
   "cell_type": "markdown",
   "metadata": {},
   "source": [
    "## Conversion into square geometry"
   ]
  },
  {
   "cell_type": "markdown",
   "metadata": {},
   "source": [
    "**A key must be speficied to be able to convert back to hexagonal afterwards**   \n",
    "The conversion geometry is stored in `ctapipe.image.geometry_convert.rot_buffer`"
   ]
  },
  {
   "cell_type": "code",
   "execution_count": 7,
   "metadata": {
    "execution": {
     "iopub.execute_input": "2021-02-09T13:50:53.451654Z",
     "iopub.status.busy": "2021-02-09T13:50:53.448910Z",
     "iopub.status.idle": "2021-02-09T13:50:54.062786Z",
     "shell.execute_reply": "2021-02-09T13:50:54.061764Z"
    }
   },
   "outputs": [],
   "source": [
    "key = 0\n",
    "square_geom, square_image = convert_geometry_hex1d_to_rect2d(geometry, image, key=key)"
   ]
  },
  {
   "cell_type": "code",
   "execution_count": 8,
   "metadata": {
    "execution": {
     "iopub.execute_input": "2021-02-09T13:50:54.070077Z",
     "iopub.status.busy": "2021-02-09T13:50:54.067304Z",
     "iopub.status.idle": "2021-02-09T13:50:54.072352Z",
     "shell.execute_reply": "2021-02-09T13:50:54.072798Z"
    }
   },
   "outputs": [
    {
     "data": {
      "text/plain": [
       "<matplotlib.image.AxesImage at 0x7f014355d1f0>"
      ]
     },
     "execution_count": 1,
     "metadata": {},
     "output_type": "execute_result"
    }
   ],
   "source": [
    "plt.imshow(square_image)"
   ]
  },
  {
   "cell_type": "markdown",
   "metadata": {},
   "source": [
    "## Conversion back to hexagonal geometry"
   ]
  },
  {
   "cell_type": "code",
   "execution_count": 9,
   "metadata": {
    "execution": {
     "iopub.execute_input": "2021-02-09T13:50:54.077033Z",
     "iopub.status.busy": "2021-02-09T13:50:54.076319Z",
     "iopub.status.idle": "2021-02-09T13:50:54.078674Z",
     "shell.execute_reply": "2021-02-09T13:50:54.078250Z"
    }
   },
   "outputs": [],
   "source": [
    "hex_geom, hex_image = convert_geometry_rect2d_back_to_hexe1d(square_geom, square_image, key=key)"
   ]
  },
  {
   "cell_type": "code",
   "execution_count": 10,
   "metadata": {
    "execution": {
     "iopub.execute_input": "2021-02-09T13:50:54.096866Z",
     "iopub.status.busy": "2021-02-09T13:50:54.096092Z",
     "iopub.status.idle": "2021-02-09T13:50:54.588116Z",
     "shell.execute_reply": "2021-02-09T13:50:54.588906Z"
    }
   },
   "outputs": [
    {
     "data": {
      "text/plain": [
       "<ctapipe.visualization.mpl_camera.CameraDisplay at 0x7f01435619a0>"
      ]
     },
     "execution_count": 1,
     "metadata": {},
     "output_type": "execute_result"
    }
   ],
   "source": [
    "CameraDisplay(hex_geom, hex_image)"
   ]
  },
  {
   "cell_type": "markdown",
   "metadata": {},
   "source": [
    "Let's check that the images are exactly the same:"
   ]
  },
  {
   "cell_type": "code",
   "execution_count": 11,
   "metadata": {
    "execution": {
     "iopub.execute_input": "2021-02-09T13:50:54.593571Z",
     "iopub.status.busy": "2021-02-09T13:50:54.592908Z",
     "iopub.status.idle": "2021-02-09T13:50:54.597211Z",
     "shell.execute_reply": "2021-02-09T13:50:54.596548Z"
    }
   },
   "outputs": [],
   "source": [
    "assert (hex_image == image).all()"
   ]
  },
  {
   "cell_type": "code",
   "execution_count": 12,
   "metadata": {
    "execution": {
     "iopub.execute_input": "2021-02-09T13:50:54.601705Z",
     "iopub.status.busy": "2021-02-09T13:50:54.600847Z",
     "iopub.status.idle": "2021-02-09T13:50:54.604730Z",
     "shell.execute_reply": "2021-02-09T13:50:54.605211Z"
    }
   },
   "outputs": [],
   "source": [
    "assert hex_geom == geometry"
   ]
  }
 ],
 "metadata": {
  "kernelspec": {
   "display_name": "Python 3",
   "language": "python",
   "name": "python3"
  },
  "language_info": {
   "codemirror_mode": {
    "name": "ipython",
    "version": 3
   },
   "file_extension": ".py",
   "mimetype": "text/x-python",
   "name": "python",
   "nbconvert_exporter": "python",
   "pygments_lexer": "ipython3",
   "version": "3.8.2"
  }
 },
 "nbformat": 4,
 "nbformat_minor": 2
}
