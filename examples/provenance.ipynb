{
 "cells": [
  {
   "cell_type": "markdown",
   "metadata": {},
   "source": [
    "# Using the ctapipe Provenance service\n",
    "\n",
    "The provenance functionality is used automatically when you use most of ctapipe functionality (particularly `ctapipe.core.Tool` and functions in `ctapipe.io` and `ctapipe.utils`), so normally you don't have to work with it directly. It tracks both input and output files, as well as details of the machine and software environment on which a Tool executed. \n",
    "\n",
    "Here we show some very low-level functions of this system:"
   ]
  },
  {
   "cell_type": "code",
   "execution_count": 1,
   "metadata": {
    "execution": {
     "iopub.execute_input": "2021-02-09T13:51:09.562795Z",
     "iopub.status.busy": "2021-02-09T13:51:09.562123Z",
     "iopub.status.idle": "2021-02-09T13:51:10.027455Z",
     "shell.execute_reply": "2021-02-09T13:51:10.026674Z"
    }
   },
   "outputs": [
    {
     "name": "stderr",
     "output_type": "stream",
     "text": [
      "/usr/local/lib/python3.8/site-packages/setuptools_scm/git.py:68: UserWarning: \"/github/workspace\" is shallow and may cause errors\n",
      "  warnings.warn('\"{}\" is shallow and may cause errors'.format(wd.path))\n"
     ]
    }
   ],
   "source": [
    "from ctapipe.core import Provenance\n",
    "from pprint import pprint"
   ]
  },
  {
   "cell_type": "markdown",
   "metadata": {},
   "source": [
    "## Activities\n",
    "\n",
    "The basis of Provenance is an *activity*, which is generally an executable or step in a script. Activities can be nested (e.g. with sub-activities), as shown below, but normally this is not required:"
   ]
  },
  {
   "cell_type": "code",
   "execution_count": 2,
   "metadata": {
    "execution": {
     "iopub.execute_input": "2021-02-09T13:51:10.033566Z",
     "iopub.status.busy": "2021-02-09T13:51:10.032386Z",
     "iopub.status.idle": "2021-02-09T13:51:10.231720Z",
     "shell.execute_reply": "2021-02-09T13:51:10.232345Z"
    }
   },
   "outputs": [],
   "source": [
    "p = Provenance()  # note this is a singleton, so only ever one global provenence object\n",
    "p.clear()\n",
    "p.start_activity()\n",
    "p.add_input_file(\"test.txt\")\n",
    "\n",
    "p.start_activity(\"sub\")\n",
    "p.add_input_file(\"subinput.txt\")\n",
    "p.add_input_file(\"anothersubinput.txt\")\n",
    "p.add_output_file(\"suboutput.txt\")\n",
    "p.finish_activity(\"sub\")\n",
    "\n",
    "p.start_activity(\"sub2\")\n",
    "p.add_input_file(\"sub2input.txt\")\n",
    "p.finish_activity(\"sub2\")\n",
    "\n",
    "p.finish_activity()"
   ]
  },
  {
   "cell_type": "code",
   "execution_count": 3,
   "metadata": {
    "execution": {
     "iopub.execute_input": "2021-02-09T13:51:10.243005Z",
     "iopub.status.busy": "2021-02-09T13:51:10.240256Z",
     "iopub.status.idle": "2021-02-09T13:51:10.248623Z",
     "shell.execute_reply": "2021-02-09T13:51:10.248163Z"
    }
   },
   "outputs": [
    {
     "data": {
      "text/plain": [
       "['sub', 'sub2', '/usr/local/bin/python3']"
      ]
     },
     "execution_count": 1,
     "metadata": {},
     "output_type": "execute_result"
    }
   ],
   "source": [
    "p.finished_activity_names"
   ]
  },
  {
   "cell_type": "markdown",
   "metadata": {},
   "source": [
    "Activities have associated input and output *entities*  (files or other objects)"
   ]
  },
  {
   "cell_type": "code",
   "execution_count": 4,
   "metadata": {
    "execution": {
     "iopub.execute_input": "2021-02-09T13:51:10.253323Z",
     "iopub.status.busy": "2021-02-09T13:51:10.252750Z",
     "iopub.status.idle": "2021-02-09T13:51:10.256851Z",
     "shell.execute_reply": "2021-02-09T13:51:10.257287Z"
    }
   },
   "outputs": [
    {
     "data": {
      "text/plain": [
       "[('sub',\n",
       "  [{'url': '/github/workspace/docs/examples/subinput.txt', 'role': None},\n",
       "   {'url': '/github/workspace/docs/examples/anothersubinput.txt',\n",
       "    'role': None}]),\n",
       " ('sub2',\n",
       "  [{'url': '/github/workspace/docs/examples/sub2input.txt', 'role': None}]),\n",
       " ('/usr/local/bin/python3',\n",
       "  [{'url': '/github/workspace/docs/examples/test.txt', 'role': None}])]"
      ]
     },
     "execution_count": 1,
     "metadata": {},
     "output_type": "execute_result"
    }
   ],
   "source": [
    "[ (x['activity_name'], x['input']) for x in p.provenance]"
   ]
  },
  {
   "cell_type": "markdown",
   "metadata": {},
   "source": [
    "Activities track when they were started and finished:"
   ]
  },
  {
   "cell_type": "code",
   "execution_count": 5,
   "metadata": {
    "execution": {
     "iopub.execute_input": "2021-02-09T13:51:10.263056Z",
     "iopub.status.busy": "2021-02-09T13:51:10.262093Z",
     "iopub.status.idle": "2021-02-09T13:51:10.265435Z",
     "shell.execute_reply": "2021-02-09T13:51:10.264946Z"
    }
   },
   "outputs": [
    {
     "data": {
      "text/plain": [
       "[('sub', 0.00010000000012055921),\n",
       " ('sub2', 8.333333335386328e-05),\n",
       " ('/usr/local/bin/python3', 0.0032333333332346115)]"
      ]
     },
     "execution_count": 1,
     "metadata": {},
     "output_type": "execute_result"
    }
   ],
   "source": [
    "[ (x['activity_name'],x['duration_min']) for x in p.provenance]"
   ]
  },
  {
   "cell_type": "markdown",
   "metadata": {},
   "source": [
    "## Full provenance\n",
    "\n",
    "The provence object is a list of activitites, and for each lots of details are collected:"
   ]
  },
  {
   "cell_type": "code",
   "execution_count": 6,
   "metadata": {
    "execution": {
     "iopub.execute_input": "2021-02-09T13:51:10.273998Z",
     "iopub.status.busy": "2021-02-09T13:51:10.272484Z",
     "iopub.status.idle": "2021-02-09T13:51:10.276346Z",
     "shell.execute_reply": "2021-02-09T13:51:10.275560Z"
    }
   },
   "outputs": [
    {
     "data": {
      "text/plain": [
       "{'activity_name': 'sub',\n",
       " 'activity_uuid': 'edacc396-2aba-407f-9837-588d6967e5d2',\n",
       " 'start': {'time_utc': '2021-02-09T13:51:10.210'},\n",
       " 'stop': {'time_utc': '2021-02-09T13:51:10.216'},\n",
       " 'system': {'ctapipe_version': '0.1.dev1+gceb4210',\n",
       "  'ctapipe_resources_version': 'not installed',\n",
       "  'eventio_version': '1.5.1',\n",
       "  'ctapipe_svc_path': None,\n",
       "  'executable': '/usr/local/bin/python3',\n",
       "  'platform': {'architecture_bits': '64bit',\n",
       "   'architecture_linkage': '',\n",
       "   'machine': 'x86_64',\n",
       "   'processor': '',\n",
       "   'node': 'f2daf0b42c94',\n",
       "   'version': '#41~18.04.1-Ubuntu SMP Mon Jan 18 14:00:01 UTC 2021',\n",
       "   'system': 'Linux',\n",
       "   'release': '5.4.0-1039-azure',\n",
       "   'libcver': ('glibc', '2.28'),\n",
       "   'num_cpus': 2,\n",
       "   'boot_time': '2021-02-09T13:46:10.000'},\n",
       "  'python': {'version_string': '3.8.2 (default, Feb 26 2020, 15:09:34) \\n[GCC 8.3.0]',\n",
       "   'version': ('3', '8', '2'),\n",
       "   'compiler': 'GCC 8.3.0',\n",
       "   'implementation': 'CPython'},\n",
       "  'environment': {'CONDA_DEFAULT_ENV': None,\n",
       "   'CONDA_PREFIX': None,\n",
       "   'CONDA_PYTHON_EXE': None,\n",
       "   'CONDA_EXE': None,\n",
       "   'CONDA_PROMPT_MODIFIER': None,\n",
       "   'CONDA_SHLVL': None,\n",
       "   'PATH': '/usr/local/bin:/usr/local/sbin:/usr/local/bin:/usr/sbin:/usr/bin:/sbin:/bin',\n",
       "   'LD_LIBRARY_PATH': None,\n",
       "   'DYLD_LIBRARY_PATH': None,\n",
       "   'USER': None,\n",
       "   'HOME': '/github/home',\n",
       "   'SHELL': None},\n",
       "  'arguments': ['/usr/local/lib/python3.8/site-packages/ipykernel_launcher.py',\n",
       "   '-f',\n",
       "   '/tmp/tmp0f509mu5.json',\n",
       "   '--HistoryManager.hist_file=:memory:'],\n",
       "  'start_time_utc': '2021-02-09T13:51:10.215'},\n",
       " 'input': [{'url': '/github/workspace/docs/examples/subinput.txt',\n",
       "   'role': None},\n",
       "  {'url': '/github/workspace/docs/examples/anothersubinput.txt',\n",
       "   'role': None}],\n",
       " 'output': [{'url': '/github/workspace/docs/examples/suboutput.txt',\n",
       "   'role': None}],\n",
       " 'status': 'sub',\n",
       " 'duration_min': 0.00010000000012055921}"
      ]
     },
     "execution_count": 1,
     "metadata": {},
     "output_type": "execute_result"
    }
   ],
   "source": [
    "p.provenance[0]"
   ]
  },
  {
   "cell_type": "markdown",
   "metadata": {},
   "source": [
    "This can be better represented in JSON:"
   ]
  },
  {
   "cell_type": "code",
   "execution_count": 7,
   "metadata": {
    "execution": {
     "iopub.execute_input": "2021-02-09T13:51:10.284201Z",
     "iopub.status.busy": "2021-02-09T13:51:10.283507Z",
     "iopub.status.idle": "2021-02-09T13:51:10.287664Z",
     "shell.execute_reply": "2021-02-09T13:51:10.287038Z"
    }
   },
   "outputs": [
    {
     "name": "stdout",
     "output_type": "stream",
     "text": [
      "[\n",
      "  {\n",
      "    \"activity_name\": \"sub\",\n",
      "    \"activity_uuid\": \"edacc396-2aba-407f-9837-588d6967e5d2\",\n",
      "    \"start\": {\n",
      "      \"time_utc\": \"2021-02-09T13:51:10.210\"\n",
      "    },\n",
      "    \"stop\": {\n",
      "      \"time_utc\": \"2021-02-09T13:51:10.216\"\n",
      "    },\n",
      "    \"system\": {\n",
      "      \"ctapipe_version\": \"0.1.dev1+gceb4210\",\n",
      "      \"ctapipe_resources_version\": \"not installed\",\n",
      "      \"eventio_version\": \"1.5.1\",\n",
      "      \"ctapipe_svc_path\": null,\n",
      "      \"executable\": \"/usr/local/bin/python3\",\n",
      "      \"platform\": {\n",
      "        \"architecture_bits\": \"64bit\",\n",
      "        \"architecture_linkage\": \"\",\n",
      "        \"machine\": \"x86_64\",\n",
      "        \"processor\": \"\",\n",
      "        \"node\": \"f2daf0b42c94\",\n",
      "        \"version\": \"#41~18.04.1-Ubuntu SMP Mon Jan 18 14:00:01 UTC 2021\",\n",
      "        \"system\": \"Linux\",\n",
      "        \"release\": \"5.4.0-1039-azure\",\n",
      "        \"libcver\": [\n",
      "          \"glibc\",\n",
      "          \"2.28\"\n",
      "        ],\n",
      "        \"num_cpus\": 2,\n",
      "        \"boot_time\": \"2021-02-09T13:46:10.000\"\n",
      "      },\n",
      "      \"python\": {\n",
      "        \"version_string\": \"3.8.2 (default, Feb 26 2020, 15:09:34) \\n[GCC 8.3.0]\",\n",
      "        \"version\": [\n",
      "          \"3\",\n",
      "          \"8\",\n",
      "          \"2\"\n",
      "        ],\n",
      "        \"compiler\": \"GCC 8.3.0\",\n",
      "        \"implementation\": \"CPython\"\n",
      "      },\n",
      "      \"environment\": {\n",
      "        \"CONDA_DEFAULT_ENV\": null,\n",
      "        \"CONDA_PREFIX\": null,\n",
      "        \"CONDA_PYTHON_EXE\": null,\n",
      "        \"CONDA_EXE\": null,\n",
      "        \"CONDA_PROMPT_MODIFIER\": null,\n",
      "        \"CONDA_SHLVL\": null,\n",
      "        \"PATH\": \"/usr/local/bin:/usr/local/sbin:/usr/local/bin:/usr/sbin:/usr/bin:/sbin:/bin\",\n",
      "        \"LD_LIBRARY_PATH\": null,\n",
      "        \"DYLD_LIBRARY_PATH\": null,\n",
      "        \"USER\": null,\n",
      "        \"HOME\": \"/github/home\",\n",
      "        \"SHELL\": null\n",
      "      },\n",
      "      \"arguments\": [\n",
      "        \"/usr/local/lib/python3.8/site-packages/ipykernel_launcher.py\",\n",
      "        \"-f\",\n",
      "        \"/tmp/tmp0f509mu5.json\",\n",
      "        \"--HistoryManager.hist_file=:memory:\"\n",
      "      ],\n",
      "      \"start_time_utc\": \"2021-02-09T13:51:10.215\"\n",
      "    },\n",
      "    \"input\": [\n",
      "      {\n",
      "        \"url\": \"/github/workspace/docs/examples/subinput.txt\",\n",
      "        \"role\": null\n",
      "      },\n",
      "      {\n",
      "        \"url\": \"/github/workspace/docs/examples/anothersubinput.txt\",\n",
      "        \"role\": null\n",
      "      }\n",
      "    ],\n",
      "    \"output\": [\n",
      "      {\n",
      "        \"url\": \"/github/workspace/docs/examples/suboutput.txt\",\n",
      "        \"role\": null\n",
      "      }\n",
      "    ],\n",
      "    \"status\": \"sub\",\n",
      "    \"duration_min\": 0.00010000000012055921\n",
      "  },\n",
      "  {\n",
      "    \"activity_name\": \"sub2\",\n",
      "    \"activity_uuid\": \"97b8c612-2347-4ad0-8f9c-0640f148f06d\",\n",
      "    \"start\": {\n",
      "      \"time_utc\": \"2021-02-09T13:51:10.218\"\n",
      "    },\n",
      "    \"stop\": {\n",
      "      \"time_utc\": \"2021-02-09T13:51:10.223\"\n",
      "    },\n",
      "    \"system\": {\n",
      "      \"ctapipe_version\": \"0.1.dev1+gceb4210\",\n",
      "      \"ctapipe_resources_version\": \"not installed\",\n",
      "      \"eventio_version\": \"1.5.1\",\n",
      "      \"ctapipe_svc_path\": null,\n",
      "      \"executable\": \"/usr/local/bin/python3\",\n",
      "      \"platform\": {\n",
      "        \"architecture_bits\": \"64bit\",\n",
      "        \"architecture_linkage\": \"\",\n",
      "        \"machine\": \"x86_64\",\n",
      "        \"processor\": \"\",\n",
      "        \"node\": \"f2daf0b42c94\",\n",
      "        \"version\": \"#41~18.04.1-Ubuntu SMP Mon Jan 18 14:00:01 UTC 2021\",\n",
      "        \"system\": \"Linux\",\n",
      "        \"release\": \"5.4.0-1039-azure\",\n",
      "        \"libcver\": [\n",
      "          \"glibc\",\n",
      "          \"2.28\"\n",
      "        ],\n",
      "        \"num_cpus\": 2,\n",
      "        \"boot_time\": \"2021-02-09T13:46:10.000\"\n",
      "      },\n",
      "      \"python\": {\n",
      "        \"version_string\": \"3.8.2 (default, Feb 26 2020, 15:09:34) \\n[GCC 8.3.0]\",\n",
      "        \"version\": [\n",
      "          \"3\",\n",
      "          \"8\",\n",
      "          \"2\"\n",
      "        ],\n",
      "        \"compiler\": \"GCC 8.3.0\",\n",
      "        \"implementation\": \"CPython\"\n",
      "      },\n",
      "      \"environment\": {\n",
      "        \"CONDA_DEFAULT_ENV\": null,\n",
      "        \"CONDA_PREFIX\": null,\n",
      "        \"CONDA_PYTHON_EXE\": null,\n",
      "        \"CONDA_EXE\": null,\n",
      "        \"CONDA_PROMPT_MODIFIER\": null,\n",
      "        \"CONDA_SHLVL\": null,\n",
      "        \"PATH\": \"/usr/local/bin:/usr/local/sbin:/usr/local/bin:/usr/sbin:/usr/bin:/sbin:/bin\",\n",
      "        \"LD_LIBRARY_PATH\": null,\n",
      "        \"DYLD_LIBRARY_PATH\": null,\n",
      "        \"USER\": null,\n",
      "        \"HOME\": \"/github/home\",\n",
      "        \"SHELL\": null\n",
      "      },\n",
      "      \"arguments\": [\n",
      "        \"/usr/local/lib/python3.8/site-packages/ipykernel_launcher.py\",\n",
      "        \"-f\",\n",
      "        \"/tmp/tmp0f509mu5.json\",\n",
      "        \"--HistoryManager.hist_file=:memory:\"\n",
      "      ],\n",
      "      \"start_time_utc\": \"2021-02-09T13:51:10.223\"\n",
      "    },\n",
      "    \"input\": [\n",
      "      {\n",
      "        \"url\": \"/github/workspace/docs/examples/sub2input.txt\",\n",
      "        \"role\": null\n",
      "      }\n",
      "    ],\n",
      "    \"output\": [],\n",
      "    \"status\": \"sub2\",\n",
      "    \"duration_min\": 8.333333335386328e-05\n",
      "  },\n",
      "  {\n",
      "    \"activity_name\": \"/usr/local/bin/python3\",\n",
      "    \"activity_uuid\": \"5bb157ae-83a6-4116-84aa-b204aee314c1\",\n",
      "    \"start\": {\n",
      "      \"time_utc\": \"2021-02-09T13:51:10.031\"\n",
      "    },\n",
      "    \"stop\": {\n",
      "      \"time_utc\": \"2021-02-09T13:51:10.225\"\n",
      "    },\n",
      "    \"system\": {\n",
      "      \"ctapipe_version\": \"0.1.dev1+gceb4210\",\n",
      "      \"ctapipe_resources_version\": \"not installed\",\n",
      "      \"eventio_version\": \"1.5.1\",\n",
      "      \"ctapipe_svc_path\": null,\n",
      "      \"executable\": \"/usr/local/bin/python3\",\n",
      "      \"platform\": {\n",
      "        \"architecture_bits\": \"64bit\",\n",
      "        \"architecture_linkage\": \"\",\n",
      "        \"machine\": \"x86_64\",\n",
      "        \"processor\": \"\",\n",
      "        \"node\": \"f2daf0b42c94\",\n",
      "        \"version\": \"#41~18.04.1-Ubuntu SMP Mon Jan 18 14:00:01 UTC 2021\",\n",
      "        \"system\": \"Linux\",\n",
      "        \"release\": \"5.4.0-1039-azure\",\n",
      "        \"libcver\": [\n",
      "          \"glibc\",\n",
      "          \"2.28\"\n",
      "        ],\n",
      "        \"num_cpus\": 2,\n",
      "        \"boot_time\": \"2021-02-09T13:46:10.000\"\n",
      "      },\n",
      "      \"python\": {\n",
      "        \"version_string\": \"3.8.2 (default, Feb 26 2020, 15:09:34) \\n[GCC 8.3.0]\",\n",
      "        \"version\": [\n",
      "          \"3\",\n",
      "          \"8\",\n",
      "          \"2\"\n",
      "        ],\n",
      "        \"compiler\": \"GCC 8.3.0\",\n",
      "        \"implementation\": \"CPython\"\n",
      "      },\n",
      "      \"environment\": {\n",
      "        \"CONDA_DEFAULT_ENV\": null,\n",
      "        \"CONDA_PREFIX\": null,\n",
      "        \"CONDA_PYTHON_EXE\": null,\n",
      "        \"CONDA_EXE\": null,\n",
      "        \"CONDA_PROMPT_MODIFIER\": null,\n",
      "        \"CONDA_SHLVL\": null,\n",
      "        \"PATH\": \"/usr/local/bin:/usr/local/sbin:/usr/local/bin:/usr/sbin:/usr/bin:/sbin:/bin\",\n",
      "        \"LD_LIBRARY_PATH\": null,\n",
      "        \"DYLD_LIBRARY_PATH\": null,\n",
      "        \"USER\": null,\n",
      "        \"HOME\": \"/github/home\",\n",
      "        \"SHELL\": null\n",
      "      },\n",
      "      \"arguments\": [\n",
      "        \"/usr/local/lib/python3.8/site-packages/ipykernel_launcher.py\",\n",
      "        \"-f\",\n",
      "        \"/tmp/tmp0f509mu5.json\",\n",
      "        \"--HistoryManager.hist_file=:memory:\"\n",
      "      ],\n",
      "      \"start_time_utc\": \"2021-02-09T13:51:10.210\"\n",
      "    },\n",
      "    \"input\": [\n",
      "      {\n",
      "        \"url\": \"/github/workspace/docs/examples/test.txt\",\n",
      "        \"role\": null\n",
      "      }\n",
      "    ],\n",
      "    \"output\": [],\n",
      "    \"status\": \"completed\",\n",
      "    \"duration_min\": 0.0032333333332346115\n",
      "  }\n",
      "]\n"
     ]
    }
   ],
   "source": [
    "print(p.as_json(indent=2))"
   ]
  },
  {
   "cell_type": "markdown",
   "metadata": {},
   "source": [
    "## Storing provenance info in output files\n",
    "\n",
    "* already this can be stored in something like an HDF5 file header, which allows hierarchies.\n",
    "* Try to flatted the data so it can be stored in a key=value header in a **FITS file** (using the FITS extended keyword convention to allow >8 character keywords), or as a table "
   ]
  },
  {
   "cell_type": "code",
   "execution_count": 8,
   "metadata": {
    "execution": {
     "iopub.execute_input": "2021-02-09T13:51:10.293924Z",
     "iopub.status.busy": "2021-02-09T13:51:10.293096Z",
     "iopub.status.idle": "2021-02-09T13:51:10.296919Z",
     "shell.execute_reply": "2021-02-09T13:51:10.297617Z"
    }
   },
   "outputs": [],
   "source": [
    "def flatten_dict(y):\n",
    "    out = {}\n",
    "\n",
    "    def flatten(x, name=''):\n",
    "        if type(x) is dict:\n",
    "            for a in x:\n",
    "                flatten(x[a], name + a + '.')\n",
    "        elif type(x) is list:\n",
    "            i = 0\n",
    "            for a in x:\n",
    "                flatten(a, name + str(i) + '.')\n",
    "                i += 1\n",
    "        else:\n",
    "            out[name[:-1]] = x\n",
    "\n",
    "    flatten(y)\n",
    "    return out"
   ]
  },
  {
   "cell_type": "code",
   "execution_count": 9,
   "metadata": {
    "execution": {
     "iopub.execute_input": "2021-02-09T13:51:10.302176Z",
     "iopub.status.busy": "2021-02-09T13:51:10.301580Z",
     "iopub.status.idle": "2021-02-09T13:51:10.304695Z",
     "shell.execute_reply": "2021-02-09T13:51:10.304189Z"
    }
   },
   "outputs": [],
   "source": [
    "d = dict(activity=p.provenance)"
   ]
  },
  {
   "cell_type": "code",
   "execution_count": 10,
   "metadata": {
    "execution": {
     "iopub.execute_input": "2021-02-09T13:51:10.313326Z",
     "iopub.status.busy": "2021-02-09T13:51:10.312519Z",
     "iopub.status.idle": "2021-02-09T13:51:10.354291Z",
     "shell.execute_reply": "2021-02-09T13:51:10.353322Z"
    }
   },
   "outputs": [
    {
     "name": "stdout",
     "output_type": "stream",
     "text": [
      "{'activity.0.activity_name': 'sub',\n",
      " 'activity.0.activity_uuid': 'edacc396-2aba-407f-9837-588d6967e5d2',\n",
      " 'activity.0.duration_min': 0.00010000000012055921,\n",
      " 'activity.0.input.0.role': None,\n",
      " 'activity.0.input.0.url': '/github/workspace/docs/examples/subinput.txt',\n",
      " 'activity.0.input.1.role': None,\n",
      " 'activity.0.input.1.url': '/github/workspace/docs/examples/anothersubinput.txt',\n",
      " 'activity.0.output.0.role': None,\n",
      " 'activity.0.output.0.url': '/github/workspace/docs/examples/suboutput.txt',\n",
      " 'activity.0.start.time_utc': '2021-02-09T13:51:10.210',\n",
      " 'activity.0.status': 'sub',\n",
      " 'activity.0.stop.time_utc': '2021-02-09T13:51:10.216',\n",
      " 'activity.0.system.arguments.0': '/usr/local/lib/python3.8/site-packages/ipykernel_launcher.py',\n",
      " 'activity.0.system.arguments.1': '-f',\n",
      " 'activity.0.system.arguments.2': '/tmp/tmp0f509mu5.json',\n",
      " 'activity.0.system.arguments.3': '--HistoryManager.hist_file=:memory:',\n",
      " 'activity.0.system.ctapipe_resources_version': 'not installed',\n",
      " 'activity.0.system.ctapipe_svc_path': None,\n",
      " 'activity.0.system.ctapipe_version': '0.1.dev1+gceb4210',\n",
      " 'activity.0.system.environment.CONDA_DEFAULT_ENV': None,\n",
      " 'activity.0.system.environment.CONDA_EXE': None,\n",
      " 'activity.0.system.environment.CONDA_PREFIX': None,\n",
      " 'activity.0.system.environment.CONDA_PROMPT_MODIFIER': None,\n",
      " 'activity.0.system.environment.CONDA_PYTHON_EXE': None,\n",
      " 'activity.0.system.environment.CONDA_SHLVL': None,\n",
      " 'activity.0.system.environment.DYLD_LIBRARY_PATH': None,\n",
      " 'activity.0.system.environment.HOME': '/github/home',\n",
      " 'activity.0.system.environment.LD_LIBRARY_PATH': None,\n",
      " 'activity.0.system.environment.PATH': '/usr/local/bin:/usr/local/sbin:/usr/local/bin:/usr/sbin:/usr/bin:/sbin:/bin',\n",
      " 'activity.0.system.environment.SHELL': None,\n",
      " 'activity.0.system.environment.USER': None,\n",
      " 'activity.0.system.eventio_version': '1.5.1',\n",
      " 'activity.0.system.executable': '/usr/local/bin/python3',\n",
      " 'activity.0.system.platform.architecture_bits': '64bit',\n",
      " 'activity.0.system.platform.architecture_linkage': '',\n",
      " 'activity.0.system.platform.boot_time': '2021-02-09T13:46:10.000',\n",
      " 'activity.0.system.platform.libcver': ('glibc', '2.28'),\n",
      " 'activity.0.system.platform.machine': 'x86_64',\n",
      " 'activity.0.system.platform.node': 'f2daf0b42c94',\n",
      " 'activity.0.system.platform.num_cpus': 2,\n",
      " 'activity.0.system.platform.processor': '',\n",
      " 'activity.0.system.platform.release': '5.4.0-1039-azure',\n",
      " 'activity.0.system.platform.system': 'Linux',\n",
      " 'activity.0.system.platform.version': '#41~18.04.1-Ubuntu SMP Mon Jan 18 '\n",
      "                                       '14:00:01 UTC 2021',\n",
      " 'activity.0.system.python.compiler': 'GCC 8.3.0',\n",
      " 'activity.0.system.python.implementation': 'CPython',\n",
      " 'activity.0.system.python.version': ('3', '8', '2'),\n",
      " 'activity.0.system.python.version_string': '3.8.2 (default, Feb 26 2020, '\n",
      "                                            '15:09:34) \\n'\n",
      "                                            '[GCC 8.3.0]',\n",
      " 'activity.0.system.start_time_utc': '2021-02-09T13:51:10.215',\n",
      " 'activity.1.activity_name': 'sub2',\n",
      " 'activity.1.activity_uuid': '97b8c612-2347-4ad0-8f9c-0640f148f06d',\n",
      " 'activity.1.duration_min': 8.333333335386328e-05,\n",
      " 'activity.1.input.0.role': None,\n",
      " 'activity.1.input.0.url': '/github/workspace/docs/examples/sub2input.txt',\n",
      " 'activity.1.start.time_utc': '2021-02-09T13:51:10.218',\n",
      " 'activity.1.status': 'sub2',\n",
      " 'activity.1.stop.time_utc': '2021-02-09T13:51:10.223',\n",
      " 'activity.1.system.arguments.0': '/usr/local/lib/python3.8/site-packages/ipykernel_launcher.py',\n",
      " 'activity.1.system.arguments.1': '-f',\n",
      " 'activity.1.system.arguments.2': '/tmp/tmp0f509mu5.json',\n",
      " 'activity.1.system.arguments.3': '--HistoryManager.hist_file=:memory:',\n",
      " 'activity.1.system.ctapipe_resources_version': 'not installed',\n",
      " 'activity.1.system.ctapipe_svc_path': None,\n",
      " 'activity.1.system.ctapipe_version': '0.1.dev1+gceb4210',\n",
      " 'activity.1.system.environment.CONDA_DEFAULT_ENV': None,\n",
      " 'activity.1.system.environment.CONDA_EXE': None,\n",
      " 'activity.1.system.environment.CONDA_PREFIX': None,\n",
      " 'activity.1.system.environment.CONDA_PROMPT_MODIFIER': None,\n",
      " 'activity.1.system.environment.CONDA_PYTHON_EXE': None,\n",
      " 'activity.1.system.environment.CONDA_SHLVL': None,\n",
      " 'activity.1.system.environment.DYLD_LIBRARY_PATH': None,\n",
      " 'activity.1.system.environment.HOME': '/github/home',\n",
      " 'activity.1.system.environment.LD_LIBRARY_PATH': None,\n",
      " 'activity.1.system.environment.PATH': '/usr/local/bin:/usr/local/sbin:/usr/local/bin:/usr/sbin:/usr/bin:/sbin:/bin',\n",
      " 'activity.1.system.environment.SHELL': None,\n",
      " 'activity.1.system.environment.USER': None,\n",
      " 'activity.1.system.eventio_version': '1.5.1',\n",
      " 'activity.1.system.executable': '/usr/local/bin/python3',\n",
      " 'activity.1.system.platform.architecture_bits': '64bit',\n",
      " 'activity.1.system.platform.architecture_linkage': '',\n",
      " 'activity.1.system.platform.boot_time': '2021-02-09T13:46:10.000',\n",
      " 'activity.1.system.platform.libcver': ('glibc', '2.28'),\n",
      " 'activity.1.system.platform.machine': 'x86_64',\n",
      " 'activity.1.system.platform.node': 'f2daf0b42c94',\n",
      " 'activity.1.system.platform.num_cpus': 2,\n",
      " 'activity.1.system.platform.processor': '',\n",
      " 'activity.1.system.platform.release': '5.4.0-1039-azure',\n",
      " 'activity.1.system.platform.system': 'Linux',\n",
      " 'activity.1.system.platform.version': '#41~18.04.1-Ubuntu SMP Mon Jan 18 '\n",
      "                                       '14:00:01 UTC 2021',\n",
      " 'activity.1.system.python.compiler': 'GCC 8.3.0',\n",
      " 'activity.1.system.python.implementation': 'CPython',\n",
      " 'activity.1.system.python.version': ('3', '8', '2'),\n",
      " 'activity.1.system.python.version_string': '3.8.2 (default, Feb 26 2020, '\n",
      "                                            '15:09:34) \\n'\n",
      "                                            '[GCC 8.3.0]',\n",
      " 'activity.1.system.start_time_utc': '2021-02-09T13:51:10.223',\n",
      " 'activity.2.activity_name': '/usr/local/bin/python3',\n",
      " 'activity.2.activity_uuid': '5bb157ae-83a6-4116-84aa-b204aee314c1',\n",
      " 'activity.2.duration_min': 0.0032333333332346115,\n",
      " 'activity.2.input.0.role': None,\n",
      " 'activity.2.input.0.url': '/github/workspace/docs/examples/test.txt',\n",
      " 'activity.2.start.time_utc': '2021-02-09T13:51:10.031',\n",
      " 'activity.2.status': 'completed',\n",
      " 'activity.2.stop.time_utc': '2021-02-09T13:51:10.225',\n",
      " 'activity.2.system.arguments.0': '/usr/local/lib/python3.8/site-packages/ipykernel_launcher.py',\n",
      " 'activity.2.system.arguments.1': '-f',\n",
      " 'activity.2.system.arguments.2': '/tmp/tmp0f509mu5.json',\n",
      " 'activity.2.system.arguments.3': '--HistoryManager.hist_file=:memory:',\n",
      " 'activity.2.system.ctapipe_resources_version': 'not installed',\n",
      " 'activity.2.system.ctapipe_svc_path': None,\n",
      " 'activity.2.system.ctapipe_version': '0.1.dev1+gceb4210',\n",
      " 'activity.2.system.environment.CONDA_DEFAULT_ENV': None,\n",
      " 'activity.2.system.environment.CONDA_EXE': None,\n",
      " 'activity.2.system.environment.CONDA_PREFIX': None,\n",
      " 'activity.2.system.environment.CONDA_PROMPT_MODIFIER': None,\n",
      " 'activity.2.system.environment.CONDA_PYTHON_EXE': None,\n",
      " 'activity.2.system.environment.CONDA_SHLVL': None,\n",
      " 'activity.2.system.environment.DYLD_LIBRARY_PATH': None,\n",
      " 'activity.2.system.environment.HOME': '/github/home',\n",
      " 'activity.2.system.environment.LD_LIBRARY_PATH': None,\n",
      " 'activity.2.system.environment.PATH': '/usr/local/bin:/usr/local/sbin:/usr/local/bin:/usr/sbin:/usr/bin:/sbin:/bin',\n",
      " 'activity.2.system.environment.SHELL': None,\n",
      " 'activity.2.system.environment.USER': None,\n",
      " 'activity.2.system.eventio_version': '1.5.1',\n",
      " 'activity.2.system.executable': '/usr/local/bin/python3',\n",
      " 'activity.2.system.platform.architecture_bits': '64bit',\n",
      " 'activity.2.system.platform.architecture_linkage': '',\n",
      " 'activity.2.system.platform.boot_time': '2021-02-09T13:46:10.000',\n",
      " 'activity.2.system.platform.libcver': ('glibc', '2.28'),\n",
      " 'activity.2.system.platform.machine': 'x86_64',\n",
      " 'activity.2.system.platform.node': 'f2daf0b42c94',\n",
      " 'activity.2.system.platform.num_cpus': 2,\n",
      " 'activity.2.system.platform.processor': '',\n",
      " 'activity.2.system.platform.release': '5.4.0-1039-azure',\n",
      " 'activity.2.system.platform.system': 'Linux',\n",
      " 'activity.2.system.platform.version': '#41~18.04.1-Ubuntu SMP Mon Jan 18 '\n",
      "                                       '14:00:01 UTC 2021',\n",
      " 'activity.2.system.python.compiler': 'GCC 8.3.0',\n",
      " 'activity.2.system.python.implementation': 'CPython',\n",
      " 'activity.2.system.python.version': ('3', '8', '2'),\n",
      " 'activity.2.system.python.version_string': '3.8.2 (default, Feb 26 2020, '\n",
      "                                            '15:09:34) \\n'\n",
      "                                            '[GCC 8.3.0]',\n",
      " 'activity.2.system.start_time_utc': '2021-02-09T13:51:10.210'}\n"
     ]
    }
   ],
   "source": [
    "pprint(flatten_dict(d))"
   ]
  }
 ],
 "metadata": {
  "kernelspec": {
   "display_name": "Python 3",
   "language": "python",
   "name": "python3"
  },
  "language_info": {
   "codemirror_mode": {
    "name": "ipython",
    "version": 3
   },
   "file_extension": ".py",
   "mimetype": "text/x-python",
   "name": "python",
   "nbconvert_exporter": "python",
   "pygments_lexer": "ipython3",
   "version": "3.8.2"
  }
 },
 "nbformat": 4,
 "nbformat_minor": 2
}
